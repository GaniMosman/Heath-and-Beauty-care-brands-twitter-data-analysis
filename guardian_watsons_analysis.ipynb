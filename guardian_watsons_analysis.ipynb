{
 "cells": [
  {
   "cell_type": "code",
   "execution_count": 3,
   "metadata": {},
   "outputs": [],
   "source": [
    "import os\n",
    "import sys\n",
    "import json\n",
    "from collections import Counter\n",
    "import time\n",
    "import math\n",
    "import matplotlib.pyplot as plt \n",
    "from tweepy import Cursor\n",
    "import tweepy\n",
    "from tweepy import OAuthHandler\n",
    "import datetime\n",
    "from wordcloud import WordCloud, STOPWORDS\n",
    "\n",
    "\n",
    "#Variables that contains the user credentials to access Twitter API\n",
    "access_token = \"1196102210565767168-IDj4DDUrNpub4aCbbciaPulpMwIhnn\"\n",
    "access_token_secret = \"3dJQJmx2fjNEwicDTdFu1jcSrApsIjxNrSJ9cm5mD1plZ\"\n",
    "consumer_key = \"noiJWBxOND49dcBydxTIzGMUt\"\n",
    "consumer_secret = \"PsLHztUa54f3NvJjDdxfnQbR9sECRLhM8GTydvIPhqOu0dI8Iq\"\n",
    "\n",
    "# authentication\n",
    "auth = OAuthHandler(consumer_key, consumer_secret)\n",
    "auth.set_access_token(access_token, access_token_secret)\n",
    "api = tweepy.API(auth)"
   ]
  },
  {
   "cell_type": "code",
   "execution_count": 21,
   "metadata": {},
   "outputs": [
    {
     "name": "stdout",
     "output_type": "stream",
     "text": [
      "Directory created\n",
      "Printing tweets of watsonsmy:\n",
      "Finished\n",
      "Total number of Tweets in last month : 322\n",
      "---------------------------------------------------------------------\n"
     ]
    }
   ],
   "source": [
    "#extract tweets based on start and end dates(4 weeks data) (watsonsmy)\n",
    "screen_name = 'watsonsmy'\n",
    "#creating directory for to save the extracted data\n",
    "dirname = \"Assignment1_data/users/{}\".format(screen_name)\n",
    "try:\n",
    "    os.makedirs(dirname, mode=0o755, exist_ok=True)\n",
    "    print(\"Directory created\")\n",
    "except OSError:\n",
    "    print(\"Directory {} already exists\".format(dirname))\n",
    "except Exception as e:\n",
    "    print(\"Error while creating directory {}\".format(dirname))\n",
    "    print(e)\n",
    "    sys.exit(1)\n",
    "#extracting tweets in a period of 1 month for from watsonmy timeline\n",
    "startDate = datetime.datetime(2019,12,1)\n",
    "endDate =   datetime.datetime(2020,1,1)\n",
    "print(\"Printing tweets of \" + screen_name + \":\" )\n",
    "total_tweet_last_month_watson = 0\n",
    "#Saving the data into json file\n",
    "fname = \"Assignment1_data/user_timeline_{}.json\".format(screen_name)\n",
    "with open(fname, 'w') as f:\n",
    "    for tweet in tweepy.Cursor(api.user_timeline, screen_name='@watsonsmy',tweet_mode=\"extended\").items():\n",
    "        if(tweet.created_at < endDate and tweet.created_at >= startDate):\n",
    "            f.write(json.dumps(tweet._json)+\"\\n\")\n",
    "            total_tweet_last_month_watson = total_tweet_last_month_watson + 1\n",
    "\n",
    "print(\"Finished\")\n",
    "\n",
    "print(\"Total number of Tweets in last month :\",total_tweet_last_month_watson)\n",
    "print(\"---------------------------------------------------------------------\")\n"
   ]
  },
  {
   "cell_type": "code",
   "execution_count": 22,
   "metadata": {},
   "outputs": [
    {
     "name": "stdout",
     "output_type": "stream",
     "text": [
      "Directory created\n",
      "Printing tweets of GuardianMYS:\n",
      "Finished\n",
      "Total number of Tweets in last month : 17\n",
      "---------------------------------------------------------------------\n"
     ]
    }
   ],
   "source": [
    "#extract tweets based on start and end dates(4 weeks data) (GuardianMYS)\n",
    "screen_name = 'GuardianMYS'\n",
    "dirname = \"Assignment1_data/users/{}\".format(screen_name)\n",
    "try:\n",
    "    os.makedirs(dirname, mode=0o755, exist_ok=True)\n",
    "    print(\"Directory created\")\n",
    "except OSError:\n",
    "    print(\"Directory {} already exists\".format(dirname))\n",
    "except Exception as e:\n",
    "    print(\"Error while creating directory {}\".format(dirname))\n",
    "    print(e)\n",
    "    sys.exit(1)\n",
    "#extracting tweets in a period of 1 month for from Guardians timeline\n",
    "startDate = datetime.datetime(2019,12,1)\n",
    "endDate =   datetime.datetime(2020,1,1)\n",
    "print(\"Printing tweets of \" + screen_name + \":\" )\n",
    "total_tweet_last_month_gurdian = 0\n",
    "fname = \"Assignment1_data/user_timeline_{}.json\".format(screen_name)\n",
    "#Saving the data into json file\n",
    "with open(fname, 'w') as f:\n",
    "    for tweet in tweepy.Cursor(api.user_timeline, screen_name='@GuardianMYS',tweet_mode=\"extended\").items():\n",
    "        if(tweet.created_at < endDate and tweet.created_at >= startDate):\n",
    "            f.write(json.dumps(tweet._json)+\"\\n\")\n",
    "            total_tweet_last_month_gurdian = total_tweet_last_month_gurdian + 1\n",
    "\n",
    "print(\"Finished\")\n",
    "\n",
    "print(\"Total number of Tweets in last month :\",total_tweet_last_month_gurdian)\n",
    "print(\"---------------------------------------------------------------------\")\n"
   ]
  },
  {
   "cell_type": "code",
   "execution_count": 14,
   "metadata": {},
   "outputs": [
    {
     "data": {
      "image/png": "[encoded data removed]",
      "text/plain": [
       "<Figure size 432x288 with 1 Axes>"
      ]
     },
     "metadata": {
      "needs_background": "light"
     },
     "output_type": "display_data"
    }
   ],
   "source": [
    "#Plot for total number of tweet in last month\n",
    "\n",
    "company = [\"watsonsmy\",\"GurdiansMYS\"]\n",
    "\n",
    "total_tweet = [total_tweet_last_month_watson,total_tweet_last_month_gurdian]\n",
    "\n",
    "plt.bar(company, total_tweet,color = ['g', 'b']) \n",
    "plt.xlabel('Company',fontsize = 13,fontweight='bold') \n",
    "\n",
    "plt.ylabel('Number of Tweets',fontsize = 13,fontweight='bold') \n",
    "\n",
    "plt.show() \n",
    "\n"
   ]
  },
  {
   "cell_type": "code",
   "execution_count": 4,
   "metadata": {},
   "outputs": [
    {
     "name": "stdout",
     "output_type": "stream",
     "text": [
      "Collecting user's profile data\n",
      "User's profile data collected\n",
      "watsonsmy has 135710 followers\n",
      "watsonsmy has 55 friends\n"
     ]
    }
   ],
   "source": [
    "# get user's profile(watsonsmy)\n",
    "screen_name = 'watsonsmy'\n",
    "print(\"Collecting user's profile data\")\n",
    "fname = \"Assignment1_data/users/{}/user_profile.json\".format(screen_name)\n",
    "#Saving the data into json file\n",
    "with open(fname, 'w') as f:\n",
    "    profile = api.get_user(screen_name=screen_name)        \n",
    "    f.write(json.dumps(profile._json, indent=4))\n",
    "\n",
    "print(\"User's profile data collected\")\n",
    "\n",
    "#get total number of followers and friends\n",
    "with open(fname) as f:\n",
    "    profile = json.load(f)\n",
    "    followers_count_watson = profile['followers_count']\n",
    "    friends_count_watson = profile['friends_count']\n",
    "    status_count_watson = profile['statuses_count']\n",
    "\n",
    "print(screen_name +\" has\",followers_count_watson, \"followers\")\n",
    "print(screen_name +\" has\", friends_count_watson, \"friends\")\n"
   ]
  },
  {
   "cell_type": "code",
   "execution_count": 5,
   "metadata": {},
   "outputs": [
    {
     "name": "stdout",
     "output_type": "stream",
     "text": [
      "Collecting user's profile data\n",
      "User's profile data collected\n",
      "GuardianMYS has 33188 followers\n",
      "GuardianMYS has 299 friends\n"
     ]
    }
   ],
   "source": [
    "# get user's profile(GuardianMYS)\n",
    "screen_name = 'GuardianMYS'\n",
    "print(\"Collecting user's profile data\")\n",
    "fname = \"Assignment1_data/users/{}/user_profile.json\".format(screen_name)\n",
    "#Saving the data into json file\n",
    "with open(fname, 'w') as f:\n",
    "    profile = api.get_user(screen_name=screen_name)        \n",
    "    f.write(json.dumps(profile._json, indent=4))\n",
    "\n",
    "print(\"User's profile data collected\")\n",
    "\n",
    "#get total number of followers and friends\n",
    "with open(fname) as f:\n",
    "    profile = json.load(f)\n",
    "    followers_count_gurdian = profile['followers_count']\n",
    "    friends_count_gurdian = profile['friends_count']\n",
    "    status_count_gurdian = profile['statuses_count']\n",
    "\n",
    "print(screen_name +\" has\",followers_count_gurdian, \"followers\")\n",
    "print(screen_name +\" has\", friends_count_gurdian, \"friends\")\n"
   ]
  },
  {
   "cell_type": "code",
   "execution_count": 15,
   "metadata": {
    "scrolled": true
   },
   "outputs": [
    {
     "data": {
      "image/png": "[encoded data removed]",
      "text/plain": [
       "<Figure size 432x288 with 1 Axes>"
      ]
     },
     "metadata": {},
     "output_type": "display_data"
    }
   ],
   "source": [
    "#plot for total number of followers\n",
    "\n",
    "value_Follower = [followers_count_gurdian,followers_count_watson] \n",
    " \n",
    "company = [\"GurdiansMYS\",\"watsonsmy\"] \n",
    "  \n",
    "colors = ['r', 'c'] \n",
    "def make_autopct(value_Follower):\n",
    "    def my_autopct(pct):\n",
    "        total = sum(value_Follower)\n",
    "        val = int(round(pct*total/100.0))\n",
    "        return '{p:.2f}%  ({v:d})'.format(p=pct,v=val)\n",
    "    return my_autopct\n",
    "\n",
    "plt.pie(value_Follower, labels = company, colors=colors,  \n",
    "        startangle=90, shadow = True, explode = ( 0.02, 0.02), \n",
    "        radius = 1.6, autopct = make_autopct(value_Follower)) \n",
    "  \n",
    "plt.legend() \n",
    "  \n",
    "plt.show() "
   ]
  },
  {
   "cell_type": "code",
   "execution_count": 7,
   "metadata": {},
   "outputs": [
    {
     "data": {
      "image/png": "[encoded data removed]",
      "text/plain": [
       "<Figure size 432x288 with 1 Axes>"
      ]
     },
     "metadata": {},
     "output_type": "display_data"
    }
   ],
   "source": [
    "#plot for total number of friends\n",
    "value_friends = [friends_count_gurdian,friends_count_watson]\n",
    "company = [\"GurdiansMYS\",\"watsonsmy\"] \n",
    "# color for each label \n",
    "colors = ['g', 'y'] \n",
    "def make_autopct(value_friends):\n",
    "    def my_autopct(pct):\n",
    "        total = sum(value_friends)\n",
    "        val = int(round(pct*total/100.0))\n",
    "        return '{p:.2f}%  ({v:d})'.format(p=pct,v=val)\n",
    "    return my_autopct\n",
    "\n",
    "plt.pie(value_friends, labels = company, colors=colors,  \n",
    "        startangle=90, shadow = True, explode = ( 0.02, 0.02), \n",
    "        radius = 1.6, autopct = make_autopct(value_friends)) \n",
    "  \n",
    "plt.legend(loc=\"best\") \n",
    "  \n",
    "plt.show() "
   ]
  },
  {
   "cell_type": "code",
   "execution_count": 64,
   "metadata": {
    "scrolled": true
   },
   "outputs": [
    {
     "name": "stdout",
     "output_type": "stream",
     "text": [
      "Collecting followers data\n",
      "More results available. Sleeping for 10 seconds to avoid rate limit\n",
      "More results available. Sleeping for 10 seconds to avoid rate limit\n",
      "More results available. Sleeping for 10 seconds to avoid rate limit\n",
      "More results available. Sleeping for 10 seconds to avoid rate limit\n",
      "More results available. Sleeping for 10 seconds to avoid rate limit\n",
      "More results available. Sleeping for 10 seconds to avoid rate limit\n",
      "More results available. Sleeping for 10 seconds to avoid rate limit\n",
      "More results available. Sleeping for 10 seconds to avoid rate limit\n",
      "More results available. Sleeping for 10 seconds to avoid rate limit\n",
      "More results available. Sleeping for 10 seconds to avoid rate limit\n",
      "More results available. Sleeping for 10 seconds to avoid rate limit\n",
      "More results available. Sleeping for 10 seconds to avoid rate limit\n",
      "More results available. Sleeping for 10 seconds to avoid rate limit\n",
      "More results available. Sleeping for 10 seconds to avoid rate limit\n",
      "More results available. Sleeping for 10 seconds to avoid rate limit\n",
      "More results available. Sleeping for 10 seconds to avoid rate limit\n",
      "More results available. Sleeping for 10 seconds to avoid rate limit\n",
      "More results available. Sleeping for 10 seconds to avoid rate limit\n",
      "More results available. Sleeping for 10 seconds to avoid rate limit\n",
      "More results available. Sleeping for 10 seconds to avoid rate limit\n",
      "More results available. Sleeping for 10 seconds to avoid rate limit\n",
      "More results available. Sleeping for 10 seconds to avoid rate limit\n",
      "More results available. Sleeping for 10 seconds to avoid rate limit\n",
      "More results available. Sleeping for 10 seconds to avoid rate limit\n",
      "More results available. Sleeping for 10 seconds to avoid rate limit\n",
      "More results available. Sleeping for 10 seconds to avoid rate limit\n",
      "More results available. Sleeping for 10 seconds to avoid rate limit\n",
      "watsonsmy's Followers data collected\n",
      "---------------------------------------------------------------------\n"
     ]
    }
   ],
   "source": [
    "def paginate(items, n):\n",
    "    for i in range(0, len(items), n):\n",
    "        yield items[i:i+n]\n",
    "        \n",
    "#get follower details(watsonsmy)\n",
    "screen_name = 'watsonsmy'\n",
    "print(\"Collecting followers data\")\n",
    "fname = \"Assignment1_data/users/{}/followers.json\".format(screen_name)\n",
    "#Saving the data into json file\n",
    "with open(fname, 'w') as f:\n",
    "    for followers in Cursor(api.followers_ids, screen_name=screen_name).pages(30):\n",
    "        for chunk in paginate(followers, 100):\n",
    "            users = api.lookup_users(user_ids=chunk)\n",
    "            for user in users:                    \n",
    "                f.write(json.dumps(user._json)+\"\\n\") \n",
    "        if len(followers) == 5000:\n",
    "            print(\"More results available. Sleeping for 10 seconds to avoid rate limit\")\n",
    "            time.sleep(10)\n",
    "print(\"watsonsmy's Followers data collected\")\n",
    "print(\"---------------------------------------------------------------------\")"
   ]
  },
  {
   "cell_type": "code",
   "execution_count": 5,
   "metadata": {
    "scrolled": true
   },
   "outputs": [
    {
     "name": "stdout",
     "output_type": "stream",
     "text": [
      "Collecting followers data\n",
      "More results available. Sleeping for 05 seconds to avoid rate limit\n",
      "More results available. Sleeping for 05 seconds to avoid rate limit\n",
      "More results available. Sleeping for 05 seconds to avoid rate limit\n",
      "More results available. Sleeping for 05 seconds to avoid rate limit\n",
      "More results available. Sleeping for 05 seconds to avoid rate limit\n",
      "More results available. Sleeping for 05 seconds to avoid rate limit\n",
      "GuardianMYS's Followers data collected\n",
      "---------------------------------------------------------------------\n"
     ]
    }
   ],
   "source": [
    "#get follower details(GuardianMYS)\n",
    "screen_name = 'GuardianMYS'\n",
    "print(\"Collecting followers data\")\n",
    "fname = \"Assignment1_data/users/{}/followers.json\".format(screen_name)\n",
    "#Saving the data into json file\n",
    "with open(fname, 'w') as f:\n",
    "    for followers in Cursor(api.followers_ids, screen_name=screen_name).pages(30):\n",
    "        for chunk in paginate(followers, 100):\n",
    "            users = api.lookup_users(user_ids=chunk)\n",
    "            for user in users:                    \n",
    "                f.write(json.dumps(user._json)+\"\\n\") \n",
    "        if len(followers) == 5000:\n",
    "            print(\"More results available. Sleeping for 05 seconds to avoid rate limit\")\n",
    "            time.sleep(5)\n",
    "print(\"GuardianMYS's Followers data collected\")\n",
    "print(\"---------------------------------------------------------------------\")"
   ]
  },
  {
   "cell_type": "code",
   "execution_count": 126,
   "metadata": {},
   "outputs": [
    {
     "name": "stdout",
     "output_type": "stream",
     "text": [
      "collecting friends data\n",
      "watsonsmy's Friends data collected\n",
      "---------------------------------------------------------------------\n"
     ]
    }
   ],
   "source": [
    "#get friend details(watsonsmy)\n",
    "screen_name = 'watsonsmy'\n",
    "print(\"collecting friends data\")\n",
    "fname = \"Assignment1_data/users/{}/friends.json\".format(screen_name)\n",
    "#Saving the data into json file\n",
    "with open(fname, 'w') as f:\n",
    "    for friends in Cursor(api.friends_ids, screen_name=screen_name).pages(30):\n",
    "        for chunk in paginate(friends, 100):\n",
    "            users = api.lookup_users(user_ids=chunk)\n",
    "            for user in users:                   \n",
    "                f.write(json.dumps(user._json)+\"\\n\")\n",
    "        if len(friends) == 5000:\n",
    "            print(\"More results available. Sleeping for 05 seconds to avoid rate limit\")\n",
    "            time.sleep(5)\n",
    "print(\"watsonsmy's Friends data collected\")\n",
    "print(\"---------------------------------------------------------------------\")"
   ]
  },
  {
   "cell_type": "code",
   "execution_count": 127,
   "metadata": {},
   "outputs": [
    {
     "name": "stdout",
     "output_type": "stream",
     "text": [
      "collecting friends data\n",
      "GuardianMYS's Friends data collected\n",
      "---------------------------------------------------------------------\n"
     ]
    }
   ],
   "source": [
    "#get friend details(GuardianMYS)\n",
    "screen_name = 'GuardianMYS'\n",
    "print(\"collecting friends data\")\n",
    "fname = \"Assignment1_data/users/{}/friends.json\".format(screen_name)\n",
    "#Saving the data into json file\n",
    "with open(fname, 'w') as f:\n",
    "    for friends in Cursor(api.friends_ids, screen_name=screen_name).pages(30):\n",
    "        for chunk in paginate(friends, 100):\n",
    "            users = api.lookup_users(user_ids=chunk)\n",
    "            for user in users:                   \n",
    "                f.write(json.dumps(user._json)+\"\\n\")\n",
    "        if len(friends) == 5000:\n",
    "            print(\"More results available. Sleeping for 05 seconds to avoid rate limit\")\n",
    "            time.sleep(5)\n",
    "print(\"GuardianMYS's Friends data collected\")\n",
    "print(\"---------------------------------------------------------------------\")"
   ]
  },
  {
   "cell_type": "code",
   "execution_count": 23,
   "metadata": {},
   "outputs": [
    {
     "name": "stdout",
     "output_type": "stream",
     "text": [
      "favortite count : 15966\n",
      "Retweet count : 5917\n",
      "Avg retweet of per tweet 18.38\n"
     ]
    }
   ],
   "source": [
    "#calculating favorite,retweet and avg retweet(watsonsmy)\n",
    "screen_name = 'watsonsmy'\n",
    "fname = \"Assignment1_data/user_timeline_{}.json\".format(screen_name)\n",
    "#extracting information from json file\n",
    "with open(fname) as f1:\n",
    "    favorite_count_watson, retweet_count_watson = 0,0\n",
    "    for line in f1:\n",
    "        tweet = json.loads(line)\n",
    "        favorite_count_watson = favorite_count_watson + tweet['favorite_count']\n",
    "        retweet_count_watson = retweet_count_watson + tweet['retweet_count']\n",
    "print(\"favortite count :\" ,favorite_count_watson)  \n",
    "avg_retweet_per_tweet_watson = retweet_count_watson / total_tweet_last_month_watson\n",
    "print(\"Retweet count :\" ,retweet_count_watson)\n",
    "print(\"Avg retweet of per tweet \" + \"{:.2f}\".format(avg_retweet_per_tweet_watson))\n"
   ]
  },
  {
   "cell_type": "code",
   "execution_count": 24,
   "metadata": {},
   "outputs": [
    {
     "name": "stdout",
     "output_type": "stream",
     "text": [
      "favortite count : 2625\n",
      "Retweet count : 2109\n",
      "Avg retweet of per tweet 124.06\n"
     ]
    }
   ],
   "source": [
    "#calculating favorite,retweet and avg retweet(GuardianMYS)\n",
    "screen_name = 'GuardianMYS'\n",
    "fname = \"Assignment1_data/user_timeline_{}.json\".format(screen_name)\n",
    "#extracting information from json file\n",
    "with open(fname) as f1:\n",
    "    favorite_count_gurdian, retweet_count_gurdian = 0,0\n",
    "    for line in f1:\n",
    "        tweet = json.loads(line)\n",
    "        favorite_count_gurdian = favorite_count_gurdian + tweet['favorite_count']\n",
    "        retweet_count_gurdian = retweet_count_gurdian + tweet['retweet_count']\n",
    "print(\"favortite count :\" ,favorite_count_gurdian)  \n",
    "avg_retweet_per_tweet_gurdian = retweet_count_gurdian / total_tweet_last_month_gurdian\n",
    "print(\"Retweet count :\" ,retweet_count_gurdian)\n",
    "print(\"Avg retweet of per tweet \" + \"{:.2f}\".format(avg_retweet_per_tweet_gurdian))"
   ]
  },
  {
   "cell_type": "code",
   "execution_count": 215,
   "metadata": {},
   "outputs": [
    {
     "data": {
      "image/png": "[encoded data removed]",
      "text/plain": [
       "<Figure size 432x288 with 1 Axes>"
      ]
     },
     "metadata": {
      "needs_background": "light"
     },
     "output_type": "display_data"
    }
   ],
   "source": [
    "#plot for avg retweet of per tweet tweet\n",
    "\n",
    "x = [avg_retweet_per_tweet_gurdian,avg_retweet_per_tweet_watson]\n",
    "y = ['GuardianMYS','watsonsmy']\n",
    "\n",
    "plt.bar(y,x,color = ['blue','red'])\n",
    "plt.xlabel('Company',fontsize = 12,fontweight='bold') \n",
    "\n",
    "plt.ylabel('Avergae Retweet',fontsize = 12,fontweight='bold') \n",
    "  \n",
    "plt.show()"
   ]
  },
  {
   "cell_type": "code",
   "execution_count": 14,
   "metadata": {},
   "outputs": [
    {
     "name": "stdout",
     "output_type": "stream",
     "text": [
      "Total hashtag for watsonsMY: 399\n"
     ]
    }
   ],
   "source": [
    "#get total number of hashtag(watsonsmy)\n",
    "def get_hashtags(tweet):\n",
    "    entities = tweet.get('entities', {})\n",
    "    hashtags = entities.get('hashtags', [])\n",
    "    return [tag['text'].lower() for tag in hashtags]\n",
    "\n",
    "screen_name = 'watsonsmy'\n",
    "fname = \"Assignment1_data/user_timeline_{}.json\".format(screen_name)\n",
    "total_hashtag_watson = 0\n",
    "#extracting information from json file\n",
    "with open(fname, 'r') as f:\n",
    "    hashtags = Counter()\n",
    "    for line in f:\n",
    "        tweet = json.loads(line)\n",
    "        hashtags_in_tweet = get_hashtags(tweet)\n",
    "        hashtags.update(hashtags_in_tweet)\n",
    "    for tag, count in hashtags.items():\n",
    "        total_hashtag_watson = total_hashtag_watson + count\n",
    "    \n",
    "\n",
    "print(\"Total hashtag for watsonsMY:\",total_hashtag_watson)\n"
   ]
  },
  {
   "cell_type": "code",
   "execution_count": 15,
   "metadata": {},
   "outputs": [
    {
     "name": "stdout",
     "output_type": "stream",
     "text": [
      "Total hashtag for gurdianMYS: 59\n"
     ]
    }
   ],
   "source": [
    "#get total number of hashtag(GuardianMYS)\n",
    "def get_hashtags(tweet):\n",
    "    entities = tweet.get('entities', {})\n",
    "    hashtags = entities.get('hashtags', [])\n",
    "    return [tag['text'].lower() for tag in hashtags]\n",
    "screen_name = 'GuardianMYS'\n",
    "fname = \"Assignment1_data/user_timeline_{}.json\".format(screen_name)\n",
    "total_hashtag_gurdian = 0\n",
    "#extracting information from json file\n",
    "with open(fname, 'r') as f:\n",
    "    hashtags = Counter()\n",
    "    for line in f:\n",
    "        tweet = json.loads(line)\n",
    "        hashtags_in_tweet = get_hashtags(tweet)\n",
    "        hashtags.update(hashtags_in_tweet)\n",
    "    for tag, count in hashtags.items():\n",
    "        total_hashtag_gurdian = total_hashtag_gurdian + count\n",
    "    \n",
    "\n",
    "print(\"Total hashtag for gurdianMYS:\",total_hashtag_gurdian)\n"
   ]
  },
  {
   "cell_type": "code",
   "execution_count": 16,
   "metadata": {},
   "outputs": [
    {
     "name": "stdout",
     "output_type": "stream",
     "text": [
      "Total mentionsfor watsonsMY: 180\n"
     ]
    }
   ],
   "source": [
    "#get total number of mentions(watsonsmy)\n",
    "def get_mentions(tweet):\n",
    "    entities = tweet.get('entities', {})\n",
    "    mentions = entities.get('user_mentions', [])\n",
    "    return [tag['screen_name'] for tag in mentions]\n",
    "\n",
    "screen_name = 'watsonsmy'\n",
    "fname = \"Assignment1_data/user_timeline_{}.json\".format(screen_name)\n",
    "total_mention_watson = 0\n",
    "#extracting information from json file\n",
    "with open(fname, 'r') as f:\n",
    "    users = Counter()\n",
    "    for line in f:\n",
    "        tweet = json.loads(line)\n",
    "        mentions_in_tweet = get_mentions(tweet)\n",
    "        users.update(mentions_in_tweet)\n",
    "    for user, count in users.items():\n",
    "        total_mention_watson = total_mention_watson + count\n",
    "\n",
    "print(\"Total mentionsfor watsonsMY:\",total_mention_watson)\n",
    "        "
   ]
  },
  {
   "cell_type": "code",
   "execution_count": 17,
   "metadata": {},
   "outputs": [
    {
     "name": "stdout",
     "output_type": "stream",
     "text": [
      "Total mentions for gurdianMYS: 4\n"
     ]
    }
   ],
   "source": [
    "#get total number of mentions(GuardianMYS)\n",
    "def get_mentions(tweet):\n",
    "    entities = tweet.get('entities', {})\n",
    "    mentions = entities.get('user_mentions', [])\n",
    "    return [tag['screen_name'] for tag in mentions]\n",
    "\n",
    "screen_name = 'GuardianMYS'\n",
    "fname = \"Assignment1_data/user_timeline_{}.json\".format(screen_name)\n",
    "total_mention_gurdian = 0\n",
    "#extracting information from json file\n",
    "with open(fname, 'r') as f:\n",
    "    users = Counter()\n",
    "    for line in f:\n",
    "        tweet = json.loads(line)\n",
    "        mentions_in_tweet = get_mentions(tweet)\n",
    "        users.update(mentions_in_tweet)\n",
    "        \n",
    "    for user, count in users.items():\n",
    "        total_mention_gurdian = total_mention_gurdian + count\n",
    "\n",
    "print(\"Total mentions for gurdianMYS:\",total_mention_gurdian)\n",
    "        "
   ]
  },
  {
   "cell_type": "code",
   "execution_count": 35,
   "metadata": {},
   "outputs": [
    {
     "data": {
      "image/png": "[encoded data removed]",
      "text/plain": [
       "<Figure size 864x360 with 1 Axes>"
      ]
     },
     "metadata": {
      "needs_background": "light"
     },
     "output_type": "display_data"
    }
   ],
   "source": [
    "# plot for 4 metrics total number of(retweet,hashtag,favorite and mention)\n",
    "import numpy\n",
    "company = ['Watsons','Guardian']\n",
    "bar_width = 0.15\n",
    "mention = [total_mention_watson,total_mention_gurdian]\n",
    "hashtag = [total_hashtag_watson,total_hashtag_gurdian]\n",
    "favorite= [favorite_count_watson,favorite_count_gurdian]\n",
    "retweet = [retweet_count_watson,retweet_count_gurdian]\n",
    "x = numpy.arange(len(mention))\n",
    "plt.figure(figsize=(12,5))\n",
    "plt.bar(x,retweet,color = 'r',width = bar_width ,label = 'Retweet [5917 and 2109]')\n",
    "plt.bar(x + bar_width,favorite,color = 'm',width = bar_width,label = 'Favorite [15966 and 2625]')\n",
    "plt.bar(x + bar_width*2,hashtag,color = 'b',width = bar_width,label = 'Hashtag [399 and 59]')\n",
    "plt.bar(x + bar_width*3,mention,color = 'c',width = bar_width,label = 'Mention [180 and 4]')\n",
    "plt.xticks(x+ bar_width,company,fontsize= 11)\n",
    "plt.xlabel('Company',fontsize = 12,fontweight = 'bold')\n",
    "plt.ylabel('Metrics Value',fontsize = 12,fontweight = 'bold')\n",
    "plt.legend()\n",
    "plt.show()\n"
   ]
  },
  {
   "cell_type": "code",
   "execution_count": 12,
   "metadata": {},
   "outputs": [
    {
     "name": "stdout",
     "output_type": "stream",
     "text": [
      "Total Engagement of watsonsMY 21627\n"
     ]
    }
   ],
   "source": [
    "#calculating total engagement(watsonsmy)\n",
    "total_engagement_watson = total_mention_watson + total_hashtag_watson + favorite_count_watson + retweet_count_watson\n",
    "print(\"Total Engagement of watsonsMY\", total_engagement_watson)"
   ]
  },
  {
   "cell_type": "code",
   "execution_count": 13,
   "metadata": {},
   "outputs": [
    {
     "name": "stdout",
     "output_type": "stream",
     "text": [
      "Total Engagement of gurdianMYS 4771\n"
     ]
    }
   ],
   "source": [
    "#calculating total engagement(GuardianMYS)\n",
    "total_engagement_gurdian = total_mention_gurdian + total_hashtag_gurdian + favorite_count_gurdian + retweet_count_gurdian\n",
    "print(\"Total Engagement of gurdianMYS\", total_engagement_gurdian)"
   ]
  },
  {
   "cell_type": "code",
   "execution_count": 218,
   "metadata": {},
   "outputs": [
    {
     "data": {
      "image/png": "[encoded data removed]",
      "text/plain": [
       "<Figure size 432x288 with 1 Axes>"
      ]
     },
     "metadata": {
      "needs_background": "light"
     },
     "output_type": "display_data"
    }
   ],
   "source": [
    "#plot for total number of engagement\n",
    "company = [\"watsonsmy\",\"GurdiansMYS\"]\n",
    "\n",
    "total_engagement = [total_engagement_watson,total_engagement_gurdian]\n",
    "\n",
    "plt.bar(company, total_engagement,color = ['m', 'c']) \n",
    "plt.xlabel('Company',fontsize = 13,fontweight='bold') \n",
    "\n",
    "plt.ylabel('Number of Engagement',fontsize = 13,fontweight='bold') \n",
    "\n",
    "plt.show() \n"
   ]
  },
  {
   "cell_type": "code",
   "execution_count": 4,
   "metadata": {
    "scrolled": false
   },
   "outputs": [
    {
     "name": "stdout",
     "output_type": "stream",
     "text": [
      "   Date      Total retweet\n",
      "2019-12-01      1\n",
      "2019-12-02      19\n",
      "2019-12-03      17\n",
      "2019-12-04      47\n",
      "2019-12-05      165\n",
      "2019-12-06      272\n",
      "2019-12-07      58\n",
      "2019-12-08      4\n",
      "2019-12-09      24\n",
      "2019-12-10      88\n",
      "2019-12-11      1315\n",
      "2019-12-12      76\n",
      "2019-12-13      56\n",
      "2019-12-14      26\n",
      "2019-12-15      18\n",
      "2019-12-16      379\n",
      "2019-12-17      119\n",
      "2019-12-18      18\n",
      "2019-12-19      147\n",
      "2019-12-20      134\n",
      "2019-12-21      75\n",
      "2019-12-22      14\n",
      "2019-12-23      11\n",
      "2019-12-24      77\n",
      "2019-12-25      31\n",
      "2019-12-26      102\n",
      "2019-12-27      54\n",
      "2019-12-28      17\n",
      "2019-12-29      2\n",
      "2019-12-30      935\n",
      "2019-12-31      1502\n",
      "[1, 2, 3, 4, 5, 6, 7, 8, 9, 10, 11, 12, 13, 14, 15, 16, 17, 18, 19, 20, 21, 22, 23, 24, 25, 26, 27, 28, 29, 30, 31]\n",
      "[1, 19, 17, 47, 165, 272, 58, 4, 24, 88, 1315, 76, 56, 26, 18, 379, 119, 18, 147, 134, 75, 14, 11, 77, 31, 102, 54, 17, 2, 935, 1502]\n"
     ]
    }
   ],
   "source": [
    "#get total retweet in each date(watsonsmy)\n",
    "screen_name = 'watsonsmy'\n",
    "fname = \"Assignment1_data/user_timeline_{}.json\".format(screen_name)\n",
    "print(\"   Date    \"+\"  Total retweet\")\n",
    "date =[]\n",
    "retweet=[]\n",
    "#extracting information from json file\n",
    "for number in range(1,32):\n",
    "    with open(fname) as f:\n",
    "        total_retweet_watson = 0\n",
    "        x = '2019-12-0{}'.format(number)\n",
    "        if(number > 9):\n",
    "            x = '2019-12-{}'.format(number)\n",
    "        for line in f:\n",
    "            tweet = json.loads(line)\n",
    "            ts = time.strftime('%Y-%m-%d',time.strptime(tweet['created_at'],'%a %b %d %H:%M:%S +0000 %Y'))\n",
    "            if(ts == x):\n",
    "                total_retweet_watson = total_retweet_watson + tweet['retweet_count']\n",
    "                \n",
    "        retweet.append(total_retweet_watson)\n",
    "        print(x +\"     \",total_retweet_watson)\n",
    "    date.append(number)    \n",
    "print(date)\n",
    "print(retweet)\n"
   ]
  },
  {
   "cell_type": "code",
   "execution_count": 8,
   "metadata": {},
   "outputs": [
    {
     "data": {
      "image/png": "[encoded data removed]",
      "text/plain": [
       "<Figure size 1152x432 with 1 Axes>"
      ]
     },
     "metadata": {
      "needs_background": "light"
     },
     "output_type": "display_data"
    }
   ],
   "source": [
    "#plot to visualize the total retweets each day(watsonsmy)\n",
    "plt.figure(figsize=(16,6))\n",
    "day = ['1','2','3','4','5','6',\"7\",'8','9','10','11','12','13','14','15','16','17','18','19','20','21','22','23','24','25','26','27','28','29','30','31']\n",
    "plt.bar(day,retweet,color = 'blue')\n",
    "plt.xlabel('Dates(December-2019)',fontweight='bold',fontsize = 12) \n",
    "plt.ylabel('Total Retweets',fontweight='bold',fontsize = 12) \n",
    "  \n",
    "plt.show()"
   ]
  },
  {
   "cell_type": "code",
   "execution_count": 6,
   "metadata": {
    "scrolled": true
   },
   "outputs": [
    {
     "name": "stdout",
     "output_type": "stream",
     "text": [
      "   Date      Total retweet\n",
      "2019-12-01      0\n",
      "2019-12-02      0\n",
      "2019-12-03      0\n",
      "2019-12-04      0\n",
      "2019-12-05      182\n",
      "2019-12-06      0\n",
      "2019-12-07      0\n",
      "2019-12-08      0\n",
      "2019-12-09      0\n",
      "2019-12-10      0\n",
      "2019-12-11      0\n",
      "2019-12-12      88\n",
      "2019-12-13      0\n",
      "2019-12-14      0\n",
      "2019-12-15      0\n",
      "2019-12-16      473\n",
      "2019-12-17      0\n",
      "2019-12-18      0\n",
      "2019-12-19      0\n",
      "2019-12-20      0\n",
      "2019-12-21      0\n",
      "2019-12-22      0\n",
      "2019-12-23      0\n",
      "2019-12-24      0\n",
      "2019-12-25      0\n",
      "2019-12-26      9\n",
      "2019-12-27      0\n",
      "2019-12-28      0\n",
      "2019-12-29      0\n",
      "2019-12-30      91\n",
      "2019-12-31      1266\n",
      "[0, 0, 0, 0, 182, 0, 0, 0, 0, 0, 0, 88, 0, 0, 0, 473, 0, 0, 0, 0, 0, 0, 0, 0, 0, 9, 0, 0, 0, 91, 1266]\n"
     ]
    }
   ],
   "source": [
    "#get total retweet in each date(GuardianMYS)\n",
    "screen_name = 'GuardianMYS'\n",
    "fname = \"Assignment1_data/user_timeline_{}.json\".format(screen_name)\n",
    "print(\"   Date    \"+\"  Total retweet\")\n",
    "retweets =[]\n",
    "dates=[]\n",
    "#extracting information from json file\n",
    "for number in range(1,32):\n",
    "    with open(fname) as f:\n",
    "        total_retweet_gurdian = 0\n",
    "        x = '2019-12-0{}'.format(number)\n",
    "        if(number > 9):\n",
    "            x = '2019-12-{}'.format(number)\n",
    "        for line in f:\n",
    "            tweet = json.loads(line)\n",
    "            ts = time.strftime('%Y-%m-%d',time.strptime(tweet['created_at'],'%a %b %d %H:%M:%S +0000 %Y'))\n",
    "            if(ts == x):\n",
    "                total_retweet_gurdian = total_retweet_gurdian + tweet['retweet_count']\n",
    "        \n",
    "        print(x +\"     \",total_retweet_gurdian)\n",
    "        retweets.append(total_retweet_gurdian)\n",
    "    dates.append(number)\n",
    "    \n",
    "print(retweets)"
   ]
  },
  {
   "cell_type": "code",
   "execution_count": 7,
   "metadata": {},
   "outputs": [
    {
     "data": {
      "image/png": "[encoded data removed]",
      "text/plain": [
       "<Figure size 720x360 with 1 Axes>"
      ]
     },
     "metadata": {
      "needs_background": "light"
     },
     "output_type": "display_data"
    }
   ],
   "source": [
    "#plot to visualize the total retweets each day(Guardians)\n",
    "plt.figure(figsize=(10,5))\n",
    "#day = ['1st','2nd','3rd','4th','5th','6th',\"7th\",'8th','9th','10th','11th','12th','13th','14th','15th','16th','17th','18th','19th','20th','21st','22nd','23rd','24th','25th','26th','27th','28th','29th','30th','31st']\n",
    "day = ['1','2','3','4','5','6',\"7\",'8','9','10','11','12','13','14','15','16','17','18','19','20','21','22','23','24','25','26','27','28','29','30','31']\n",
    "plt.bar(day,retweets,color = 'c')\n",
    "\n",
    "plt.xlabel('Dates(December-2019)',fontweight='bold',fontsize = 12) \n",
    "\n",
    "plt.ylabel('Total Retweets',fontweight='bold',fontsize = 12) \n",
    "  \n",
    "plt.show()"
   ]
  },
  {
   "cell_type": "code",
   "execution_count": 17,
   "metadata": {},
   "outputs": [
    {
     "name": "stdout",
     "output_type": "stream",
     "text": [
      " Tweet: Losyen Pisang: RM18.90 sahaja. Dengan ekstrak pisang sebenar. 🍌 Hanya di #WatsonsMalaysia. 😉 https://t.co/NNdFn77qJs Total Retweet:  1258\n"
     ]
    }
   ],
   "source": [
    "#get popular tweet(watsonsmy)\n",
    "screen_name = 'watsonsmy'\n",
    "fname = \"Assignment1_data/user_timeline_{}.json\".format(screen_name)\n",
    "highest_watson = 0\n",
    "popular_tweet_watson = \" \"\n",
    "#extracting information from json file\n",
    "with open(fname) as f:\n",
    "    for line in f:\n",
    "        tweet = json.loads(line)\n",
    "        if(tweet['retweet_count'] > highest_watson):\n",
    "            highest_watson = tweet['retweet_count']\n",
    "            popular_tweet_watson = str(tweet['full_text'])\n",
    "            \n",
    "            \n",
    "    print(\" Tweet: \" + popular_tweet_watson,\"Total Retweet: \",highest_watson)\n",
    "        \n"
   ]
  },
  {
   "cell_type": "code",
   "execution_count": 19,
   "metadata": {},
   "outputs": [
    {
     "name": "stdout",
     "output_type": "stream",
     "text": [
      "Tweet: [ALL COSMETIC BRANDS 50% OFF!]* 💄\n",
      "Time to stock up ladies and get 50% OFF from 1st until 5th January! 😍 🧡\n",
      "Shop at the nearest Guardian stores OR Guardian Online at: https://t.co/c4BZsmYUXF\n",
      " \n",
      "#GuardianMY #BeautyDays #HaulwithGuardian #Cosmetics #Makeup #Sale #Promotion https://t.co/QnTUZcvnOs Total Retweet:  1125\n"
     ]
    }
   ],
   "source": [
    "#get popular tweet(GuardianMYS)\n",
    "screen_name = 'GuardianMYS'\n",
    "fname = \"Assignment1_data/user_timeline_{}.json\".format(screen_name)\n",
    "highest_gurdian = 0\n",
    "popular_tweet_gurdian = \" \"\n",
    "#extracting information from json file\n",
    "with open(fname) as f:\n",
    "    for line in f:\n",
    "        tweet = json.loads(line)\n",
    "        if(tweet['retweet_count'] > highest_gurdian):\n",
    "            highest_gurdian = tweet['retweet_count']\n",
    "            popular_tweet_gurdian = str(tweet['full_text'])\n",
    "            \n",
    "            \n",
    "    print(\"Tweet: \" + popular_tweet_gurdian,\"Total Retweet: \",highest_gurdian)\n",
    "        \n"
   ]
  },
  {
   "cell_type": "code",
   "execution_count": 214,
   "metadata": {},
   "outputs": [
    {
     "data": {
      "image/png": "[encoded data removed]",
      "text/plain": [
       "<Figure size 432x288 with 1 Axes>"
      ]
     },
     "metadata": {
      "needs_background": "light"
     },
     "output_type": "display_data"
    }
   ],
   "source": [
    "#Word cloud for most poplular tweet(GuardianMYS)\n",
    "wordcloud = WordCloud(background_color='white', width=5000, height=5000).generate(popular_tweet_gurdian)\n",
    "\n",
    "plt.imshow(wordcloud)\n",
    "plt.axis(\"on\")\n",
    "plt.show()"
   ]
  },
  {
   "cell_type": "code",
   "execution_count": 219,
   "metadata": {},
   "outputs": [
    {
     "data": {
      "image/png": "[encoded data removed]",
      "text/plain": [
       "<Figure size 432x288 with 1 Axes>"
      ]
     },
     "metadata": {
      "needs_background": "light"
     },
     "output_type": "display_data"
    }
   ],
   "source": [
    "#plot for most poplular tweet(watsonsmy)\n",
    "wordcloud = WordCloud(background_color='white', width=5000, height=5000).generate(popular_tweet_watson)\n",
    "plt.imshow(wordcloud)\n",
    "plt.axis(\"on\")\n",
    "plt.show()"
   ]
  },
  {
   "cell_type": "code",
   "execution_count": 36,
   "metadata": {},
   "outputs": [
    {
     "name": "stdout",
     "output_type": "stream",
     "text": [
      "GuardianMYS \n",
      "\n",
      "kuala lumpur 1135\n",
      "johor 1207\n",
      "selangor 1487\n",
      "penang 240\n",
      "perak 590\n",
      "sarawak 373\n",
      "kedah 684\n",
      "pahang 461\n",
      "kelantan 436\n",
      "terengganu 409\n",
      "malacca 200\n",
      "negeri sembilan 169\n",
      "perlis 102\n",
      "sabah 560\n",
      "putrajaya 94\n",
      "kl 217\n",
      "melaka 154\n"
     ]
    }
   ],
   "source": [
    "#get total number of  follower by states(guardian)\n",
    "states_M = ['kuala lumpur','johor','selangor','penang','perak','sarawak','kedah','pahang','kelantan','terengganu','malacca','negeri sembilan','perlis','sabah','putrajaya','kl','melaka']\n",
    "\n",
    "screen_name = \"GuardianMYS\"\n",
    "followers_file = 'Assignment1_data//users/{}/followers.json'.format(screen_name)\n",
    "print(screen_name,\"\\n\")\n",
    "\n",
    "#extracting information from json file\n",
    "with open(followers_file) as f1:\n",
    "    followers = []\n",
    "    for line in f1:\n",
    "        profile = json.loads(line)\n",
    "        followers.append(profile['location'].lower())\n",
    "        \n",
    "for state in states_M:\n",
    "    number = 0\n",
    "    for follower in followers:\n",
    "        if state in follower:\n",
    "            number = number + 1\n",
    "    print(state,number)\n",
    "#from the output, combines kl + kuala lumpur and also similar for malacca and melaka\n",
    "States_gurdian= ['KL','Johor','Selangor','Penang','Perak','Sarawak','Kedah','Pahang','Kelantan','Terengganu','Malacca','NS','Perlis','Sabah','Putrajaya']\n",
    "total_gurdian = [1352,1207,1487,240,590,373,684,461,436,409,354,169,102,560,94]"
   ]
  },
  {
   "cell_type": "code",
   "execution_count": 37,
   "metadata": {},
   "outputs": [
    {
     "data": {
      "image/png": "[encoded data removed]",
      "text/plain": [
       "<Figure size 1152x432 with 1 Axes>"
      ]
     },
     "metadata": {
      "needs_background": "light"
     },
     "output_type": "display_data"
    }
   ],
   "source": [
    "#plot for follower by states(guardian)\n",
    "plt.figure(figsize=(16,6))\n",
    "plt.bar(States_gurdian,total_gurdian,color = 'm')\n",
    "plt.xlabel('States and Territories',fontweight='bold',fontsize = 12) \n",
    "plt.ylabel('Total Followers',fontweight='bold',fontsize = 12) \n",
    "  \n",
    "plt.show()"
   ]
  },
  {
   "cell_type": "code",
   "execution_count": 38,
   "metadata": {
    "scrolled": true
   },
   "outputs": [
    {
     "name": "stdout",
     "output_type": "stream",
     "text": [
      "watsonsmy \n",
      "\n",
      "kuala lumpur 4625\n",
      "johor 5518\n",
      "selangor 6228\n",
      "penang 803\n",
      "perak 2584\n",
      "sarawak 2436\n",
      "kedah 2949\n",
      "pahang 2136\n",
      "kelantan 2157\n",
      "terengganu 1517\n",
      "malacca 1002\n",
      "negeri sembilan 839\n",
      "perlis 382\n",
      "sabah 3210\n",
      "putrajaya 396\n",
      "kl 786\n",
      "melaka 704\n"
     ]
    }
   ],
   "source": [
    "#get total number of  follower by states(watsons)\n",
    "states_M = ['kuala lumpur','johor','selangor','penang','perak','sarawak','kedah','pahang','kelantan','terengganu','malacca','negeri sembilan','perlis','sabah','putrajaya','kl','melaka']\n",
    "screen_name = \"watsonsmy\"\n",
    "followers_file2 = 'Assignment1_data//users/{}/followers.json'.format(screen_name)\n",
    "print(screen_name,\"\\n\")\n",
    "\n",
    "#extracting information from json file\n",
    "with open(followers_file2) as f2:\n",
    "    followers = []\n",
    "    for line in f2:\n",
    "        profile = json.loads(line)\n",
    "        followers.append(profile['location'].lower())\n",
    "        \n",
    "for state in states_M:\n",
    "    number = 0\n",
    "    for follower in followers:\n",
    "        if state in follower:\n",
    "            number = number + 1\n",
    "    print(state,number)\n",
    "#from the output, combines kl + kuala lumpur and also similar for malacca and melaka\n",
    "States_watson= ['KL','Johor','Selangor','Penang','Perak','Sarawak','Kedah','Pahang','Kelantan','Terengganu','Malacca','NS','Perlis','Sabah','Putrajaya']\n",
    "total_watson = [5411,5518,6228,803,2584,2436,2949,2136,2157,1517,1706,839,382,3210,396]"
   ]
  },
  {
   "cell_type": "code",
   "execution_count": 46,
   "metadata": {},
   "outputs": [
    {
     "data": {
      "image/png": "[encoded data removed]",
      "text/plain": [
       "<Figure size 1152x432 with 1 Axes>"
      ]
     },
     "metadata": {
      "needs_background": "light"
     },
     "output_type": "display_data"
    }
   ],
   "source": [
    "#plot for follower by states(watsons)\n",
    "plt.figure(figsize=(16,6))\n",
    "plt.bar(States_watson,total_watson,color = 'g')\n",
    "plt.xlabel('States and Territories',fontweight='bold',fontsize = 12) \n",
    "plt.ylabel('Total Followers',fontweight='bold',fontsize = 12) \n",
    "plt.show()"
   ]
  }
 ],
 "metadata": {
  "kernelspec": {
   "display_name": "Python 3",
   "language": "python",
   "name": "python3"
  },
  "language_info": {
   "codemirror_mode": {
    "name": "ipython",
    "version": 3
   },
   "file_extension": ".py",
   "mimetype": "text/x-python",
   "name": "python",
   "nbconvert_exporter": "python",
   "pygments_lexer": "ipython3",
   "version": "3.8.5"
  },
  "toc": {
   "base_numbering": 1,
   "nav_menu": {},
   "number_sections": true,
   "sideBar": true,
   "skip_h1_title": false,
   "title_cell": "Table of Contents",
   "title_sidebar": "Contents",
   "toc_cell": false,
   "toc_position": {},
   "toc_section_display": true,
   "toc_window_display": false
  }
 },
 "nbformat": 4,
 "nbformat_minor": 2
}
